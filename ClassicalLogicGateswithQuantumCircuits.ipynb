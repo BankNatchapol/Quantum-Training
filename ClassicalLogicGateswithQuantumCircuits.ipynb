{
  "nbformat": 4,
  "nbformat_minor": 0,
  "metadata": {
    "kernelspec": {
      "display_name": "Python 3",
      "language": "python",
      "name": "python3"
    },
    "language_info": {
      "codemirror_mode": {
        "name": "ipython",
        "version": 3
      },
      "file_extension": ".py",
      "mimetype": "text/x-python",
      "name": "python",
      "nbconvert_exporter": "python",
      "pygments_lexer": "ipython3",
      "version": "3.6.5"
    },
    "colab": {
      "name": "ClassicalLogicGateswithQuantumCircuits.ipynb",
      "provenance": []
    }
  },
  "cells": [
    {
      "cell_type": "code",
      "metadata": {
        "id": "Cwvsj-UO2yIH"
      },
      "source": [
        "from qiskit import *\n",
        "from qiskit.tools.visualization import plot_histogram\n",
        "import numpy as np"
      ],
      "execution_count": null,
      "outputs": []
    },
    {
      "cell_type": "markdown",
      "metadata": {
        "id": "3wa97Q152yIS"
      },
      "source": [
        "Using the NOT gate (expressed as `x` in Qiskit), the CNOT gate (expressed as `cx` in Qiskit) and the Toffoli gate (expressed as `ccx` in Qiskit) create functions to implement the XOR, AND, NAND and OR gates.\n",
        "\n",
        "An implementation of the NOT gate is provided as an example."
      ]
    },
    {
      "cell_type": "markdown",
      "metadata": {
        "id": "oKXar60a2yIT"
      },
      "source": [
        "### NOT gate\n",
        "\n",
        "This function takes a binary string input (`'0'` or `'1'`) and returns the opposite binary output'."
      ]
    },
    {
      "cell_type": "code",
      "metadata": {
        "id": "3dBvkVC-2yIU"
      },
      "source": [
        "def NOT(input):\n",
        "\n",
        "    q = QuantumRegister(1) # a qubit in which to encode and manipulate the input\n",
        "    c = ClassicalRegister(1) # a bit to store the output\n",
        "    qc = QuantumCircuit(q, c) # this is where the quantum program goes\n",
        "    \n",
        "    # We encode '0' as the qubit state |0⟩, and '1' as |1⟩\n",
        "    # Since the qubit is initially |0⟩, we don't need to do anything for an input of '0'\n",
        "    # For an input of '1', we do an x to rotate the |0⟩ to |1⟩\n",
        "    if input=='1':\n",
        "        qc.x(q[0])\n",
        "        \n",
        "    # Now we've encoded the input, we can do a NOT on it using x\n",
        "    qc.x( q[0] )\n",
        "    \n",
        "    # Finally, we extract the |0⟩/|1⟩ output of the qubit and encode it in the bit c[0]\n",
        "    qc.measure( q[0], c[0] )\n",
        "    \n",
        "    # We'll run the program on a simulator\n",
        "    backend = Aer.get_backend('qasm_simulator')\n",
        "    # Since the output will be deterministic, we can use just a single shot to get it\n",
        "    job = execute(qc,backend,shots=1)\n",
        "    output = next(iter(job.result().get_counts()))\n",
        "    \n",
        "    return output"
      ],
      "execution_count": null,
      "outputs": []
    },
    {
      "cell_type": "code",
      "metadata": {
        "id": "RMPVFHh22yIV",
        "outputId": "716a02fe-d0c0-4529-90a6-fe472a687762"
      },
      "source": [
        "print('\\nResults for the NOT gate')\n",
        "for input in ['0','1']:\n",
        "    print('    Input',input,'gives output',NOT(input))"
      ],
      "execution_count": null,
      "outputs": [
        {
          "output_type": "stream",
          "text": [
            "\n",
            "Results for the NOT gate\n",
            "    Input 0 gives output 1\n",
            "    Input 1 gives output 0\n"
          ],
          "name": "stdout"
        }
      ]
    },
    {
      "cell_type": "markdown",
      "metadata": {
        "id": "Ar8aYeyY2yIX"
      },
      "source": [
        "### XOR gate\n",
        "\n",
        "Takes two binary strings as input and gives one as output.\n",
        "\n",
        "The output is `'0'` when the inputs are equal and `'1'` otherwise."
      ]
    },
    {
      "cell_type": "code",
      "metadata": {
        "id": "lA6IB0Io2yIY"
      },
      "source": [
        "def XOR(input1,input2):\n",
        "    \n",
        "    q = QuantumRegister(2) # two qubits in which to encode and manipulate the input\n",
        "    c = ClassicalRegister(1) # a bit to store the output\n",
        "    qc = QuantumCircuit(q, c) # this is where the quantum program goes\n",
        "    \n",
        "    # YOUR QUANTUM PROGRAM GOES HERE \n",
        "    \n",
        "    \n",
        "    \n",
        "    \n",
        "    \n",
        "    \n",
        "    \n",
        "    \n",
        "    \n",
        "    \n",
        "    qc.measure(q[1],c[0]) # YOU CAN CHANGE THIS IF YOU WANT TO\n",
        "    \n",
        "    # We'll run the program on a simulator\n",
        "    backend = Aer.get_backend('qasm_simulator')\n",
        "    # Since the output will be deterministic, we can use just a single shot to get it\n",
        "    job = execute(qc,backend,shots=1,memory=True)\n",
        "    output = job.result().get_memory()[0]\n",
        "    \n",
        "    return output"
      ],
      "execution_count": null,
      "outputs": []
    },
    {
      "cell_type": "code",
      "metadata": {
        "id": "TOjib3Jw2yIZ",
        "outputId": "8e7ee2a3-00dc-48c6-8e16-6a8b50ff3075"
      },
      "source": [
        "print('\\nResults for the XOR gate')\n",
        "for input1 in ['0','1']:\n",
        "    for input2 in ['0','1']:\n",
        "        print('    Inputs',input1,input2,'give output',XOR(input1,input2))"
      ],
      "execution_count": null,
      "outputs": [
        {
          "output_type": "stream",
          "text": [
            "\n",
            "Results for the XOR gate\n",
            "    Inputs 0 0 give output 0\n",
            "    Inputs 0 1 give output 1\n",
            "    Inputs 1 0 give output 1\n",
            "    Inputs 1 1 give output 0\n"
          ],
          "name": "stdout"
        }
      ]
    },
    {
      "cell_type": "markdown",
      "metadata": {
        "id": "igPucTzO2yIa"
      },
      "source": [
        "### AND gate\n",
        "\n",
        "Takes two binary strings as input and gives one as output.\n",
        "\n",
        "The output is `'1'` only when both the inputs are `'1'`."
      ]
    },
    {
      "cell_type": "code",
      "metadata": {
        "id": "BQUQyLTj2yIa"
      },
      "source": [
        "def AND(input1,input2):\n",
        "    \n",
        "    q = QuantumRegister(3) # two qubits in which to encode the input, and one for the output\n",
        "    c = ClassicalRegister(1) # a bit to store the output\n",
        "    qc = QuantumCircuit(q, c) # this is where the quantum program goes\n",
        "    \n",
        "    # YOUR QUANTUM PROGRAM GOES HERE\n",
        "    \n",
        "    \n",
        "    \n",
        "    \n",
        "    \n",
        "    \n",
        "    \n",
        "    \n",
        "    \n",
        "    \n",
        "    qc.measure(q[2],c[0]) # YOU CAN CHANGE THIS IF YOU WANT TO\n",
        "    \n",
        "    # We'll run the program on a simulator\n",
        "    backend = Aer.get_backend('qasm_simulator')\n",
        "    # Since the output will be deterministic, we can use just a single shot to get it\n",
        "    job = execute(qc,backend,shots=1,memory=True)\n",
        "    output = job.result().get_memory()[0]\n",
        "    \n",
        "    return output"
      ],
      "execution_count": null,
      "outputs": []
    },
    {
      "cell_type": "code",
      "metadata": {
        "id": "F7u_zrKa2yIb",
        "outputId": "0f9c6a9f-e2ff-4791-f0d1-208390ecc795"
      },
      "source": [
        "print('\\nResults for the AND gate')\n",
        "for input1 in ['0','1']:\n",
        "    for input2 in ['0','1']:\n",
        "        print('    Inputs',input1,input2,'give output',AND(input1,input2))"
      ],
      "execution_count": null,
      "outputs": [
        {
          "output_type": "stream",
          "text": [
            "\n",
            "Results for the AND gate\n",
            "    Inputs 0 0 give output 0\n",
            "    Inputs 0 1 give output 0\n",
            "    Inputs 1 0 give output 0\n",
            "    Inputs 1 1 give output 1\n"
          ],
          "name": "stdout"
        }
      ]
    },
    {
      "cell_type": "markdown",
      "metadata": {
        "id": "gsGmeF5Z2yIb"
      },
      "source": [
        "### NAND gate\n",
        "\n",
        "Takes two binary strings as input and gives one as output.\n",
        "\n",
        "The output is `'0'` only when both the inputs are `'1'`."
      ]
    },
    {
      "cell_type": "code",
      "metadata": {
        "id": "8w2F29nL2yIc"
      },
      "source": [
        "def NAND(input1,input2):\n",
        "  \n",
        "    q = QuantumRegister(3) # two qubits in which to encode the input, and one for the output\n",
        "    c = ClassicalRegister(1) # a bit to store the output\n",
        "    qc = QuantumCircuit(q, c) # this is where the quantum program goes\n",
        "    \n",
        "    # YOUR QUANTUM PROGRAM GOES HERE\n",
        "    \n",
        "    \n",
        "    \n",
        "    \n",
        "    \n",
        "    \n",
        "    \n",
        "    \n",
        "    \n",
        "     \n",
        "    qc.measure(q[2],c[0]) # YOU CAN CHANGE THIS IF YOU WANT TO\n",
        "    \n",
        "    # We'll run the program on a simulator\n",
        "    backend = Aer.get_backend('qasm_simulator')\n",
        "    # Since the output will be deterministic, we can use just a single shot to get it\n",
        "    job = execute(qc,backend,shots=1,memory=True)\n",
        "    output = job.result().get_memory()[0]\n",
        "    \n",
        "    return output"
      ],
      "execution_count": null,
      "outputs": []
    },
    {
      "cell_type": "code",
      "metadata": {
        "id": "md8eVBhL2yIc",
        "outputId": "d13e2fdd-b4b2-4021-ed88-be753978b7e6"
      },
      "source": [
        "print('\\nResults for the NAND gate')\n",
        "for input1 in ['0','1']:\n",
        "    for input2 in ['0','1']:\n",
        "        print('    Inputs',input1,input2,'give output',NAND(input1,input2))"
      ],
      "execution_count": null,
      "outputs": [
        {
          "output_type": "stream",
          "text": [
            "\n",
            "Results for the NAND gate\n",
            "    Inputs 0 0 give output 1\n",
            "    Inputs 0 1 give output 1\n",
            "    Inputs 1 0 give output 1\n",
            "    Inputs 1 1 give output 0\n"
          ],
          "name": "stdout"
        }
      ]
    },
    {
      "cell_type": "markdown",
      "metadata": {
        "id": "kvxAiUe12yId"
      },
      "source": [
        "## OR gate\n",
        "\n",
        "Takes two binary strings as input and gives one as output.\n",
        "\n",
        "The output is `'1'` if either input is `'1'`."
      ]
    },
    {
      "cell_type": "code",
      "metadata": {
        "id": "j3LgmJmX2yId"
      },
      "source": [
        "def OR(input1,input2):\n",
        "  \n",
        "    q = QuantumRegister(3) # two qubits in which to encode the input, and one for the output\n",
        "    c = ClassicalRegister(1) # a bit to store the output\n",
        "    qc = QuantumCircuit(q, c) # this is where the quantum program goes\n",
        "    \n",
        "    # YOUR QUANTUM PROGRAM GOES HERE\n",
        "    \n",
        "    \n",
        "    \n",
        "    \n",
        "    \n",
        "    \n",
        "    \n",
        "    \n",
        "    \n",
        "    \n",
        "    qc.measure(q[2],c[0]) # YOU CAN CHANGE THIS IF YOU WANT TO\n",
        "    \n",
        "    # We'll run the program on a simulator\n",
        "    backend = Aer.get_backend('qasm_simulator')\n",
        "    # Since the output will be deterministic, we can use just a single shot to get it\n",
        "    job = execute(qc,backend,shots=1,memory=True)\n",
        "    output = job.result().get_memory()[0]\n",
        "    \n",
        "    return output"
      ],
      "execution_count": null,
      "outputs": []
    },
    {
      "cell_type": "code",
      "metadata": {
        "id": "-Jyv1rL92yIe",
        "outputId": "71ffddca-bd66-466c-d515-c285cec8865c"
      },
      "source": [
        "print('\\nResults for the OR gate')\n",
        "for input1 in ['0','1']:\n",
        "    for input2 in ['0','1']:\n",
        "        print('    Inputs',input1,input2,'give output',OR(input1,input2))"
      ],
      "execution_count": null,
      "outputs": [
        {
          "output_type": "stream",
          "text": [
            "\n",
            "Results for the OR gate\n",
            "    Inputs 0 0 give output 0\n",
            "    Inputs 0 1 give output 1\n",
            "    Inputs 1 0 give output 1\n",
            "    Inputs 1 1 give output 1\n"
          ],
          "name": "stdout"
        }
      ]
    }
  ]
}